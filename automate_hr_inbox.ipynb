{
  "nbformat": 4,
  "nbformat_minor": 0,
  "metadata": {
    "colab": {
      "provenance": [],
      "authorship_tag": "ABX9TyOc81vzm8WSVGNslF4ihPiq",
      "include_colab_link": true
    },
    "kernelspec": {
      "name": "python3",
      "display_name": "Python 3"
    },
    "language_info": {
      "name": "python"
    }
  },
  "cells": [
    {
      "cell_type": "markdown",
      "metadata": {
        "id": "view-in-github",
        "colab_type": "text"
      },
      "source": [
        "<a href=\"https://colab.research.google.com/github/devloper2022/2022.devloper/blob/main/automate_hr_inbox.ipynb\" target=\"_parent\"><img src=\"https://colab.research.google.com/assets/colab-badge.svg\" alt=\"Open In Colab\"/></a>"
      ]
    },
    {
      "cell_type": "code",
      "execution_count": null,
      "metadata": {
        "id": "cXmZuKv2z7S8"
      },
      "outputs": [],
      "source": [
        "# ==========================\n",
        "# STEP 0: Install Required Libraries\n",
        "# ==========================\n",
        "!pip install pdfplumber python-docx openpyxl pandas google-auth google-auth-oauthlib google-auth-httplib2 google-api-python-client\n"
      ]
    },
    {
      "cell_type": "code",
      "source": [
        "# ==========================\n",
        "# STEP 1: Upload Gmail API Credentials (Optional, only for running Gmail fetch)\n",
        "# ==========================\n",
        "from google.colab import files\n",
        "uploaded = files.upload()  # Upload your credentials.json if you want Gmail access\n"
      ],
      "metadata": {
        "id": "7BqYVinq0GII"
      },
      "execution_count": null,
      "outputs": []
    },
    {
      "cell_type": "code",
      "source": [
        "# ==========================\n",
        "# STEP 2: Authenticate Gmail API (Optional)\n",
        "# ==========================\n",
        "import os, pickle\n",
        "from google_auth_oauthlib.flow import InstalledAppFlow\n",
        "from googleapiclient.discovery import build\n",
        "\n",
        "SCOPES = ['https://www.googleapis.com/auth/gmail.readonly']\n",
        "creds = None\n",
        "\n",
        "# Load token if exists\n",
        "if os.path.exists(\"/content/token.pkl\"):\n",
        "    with open(\"/content/token.pkl\", \"rb\") as token:\n",
        "        creds = pickle.load(token)\n",
        "\n",
        "# OAuth login flow if no token\n",
        "if not creds:\n",
        "    flow = InstalledAppFlow.from_client_secrets_file(\"/content/credentials.json\", SCOPES)\n",
        "    creds = flow.run_local_server(port=0)\n",
        "    with open(\"/content/token.pkl\", \"wb\") as token:\n",
        "        pickle.dump(creds, token)\n",
        "\n",
        "service = build(\"gmail\", \"v1\", credentials=creds)\n",
        "print(\"✅ Gmail API connected\")\n"
      ],
      "metadata": {
        "id": "fOd329JK0JqZ"
      },
      "execution_count": null,
      "outputs": []
    },
    {
      "cell_type": "code",
      "source": [
        "# ==========================\n",
        "# STEP 3: Fetch Emails and Download Attachments\n",
        "# ==========================\n",
        "import base64\n",
        "\n",
        "SAVE_DIR = \"/content/resumes\"\n",
        "os.makedirs(SAVE_DIR, exist_ok=True)\n",
        "\n",
        "def fetch_emails_and_download(service, query=\"has:attachment\"):\n",
        "    results = service.users().messages().list(userId='me', q=query).execute()\n",
        "    messages = results.get('messages', [])\n",
        "    files = []\n",
        "\n",
        "    for msg in messages:\n",
        "        msg_id = msg['id']\n",
        "        message = service.users().messages().get(userId='me', id=msg_id).execute()\n",
        "        parts = message['payload'].get('parts', [])\n",
        "\n",
        "        for part in parts:\n",
        "            if part.get('filename') and part['filename'] != '':\n",
        "                if 'attachmentId' in part['body']:\n",
        "                    att_id = part['body']['attachmentId']\n",
        "                    att = service.users().messages().attachments().get(\n",
        "                        userId='me', messageId=msg_id, id=att_id\n",
        "                    ).execute()\n",
        "\n",
        "                    data = base64.urlsafe_b64decode(att['data'])\n",
        "                    file_path = os.path.join(SAVE_DIR, part['filename'])\n",
        "                    with open(file_path, 'wb') as f:\n",
        "                        f.write(data)\n",
        "                    files.append(file_path)\n",
        "                    print(f\"📩 Downloaded {file_path}\")\n",
        "    return files\n",
        "\n",
        "# files = fetch_emails_and_download(service)  # Uncomment when Gmail credentials are provided\n"
      ],
      "metadata": {
        "id": "d-LBosvt0LLC"
      },
      "execution_count": null,
      "outputs": []
    },
    {
      "cell_type": "code",
      "source": [
        "# ==========================\n",
        "# STEP 4: Parse Resumes (PDF / DOCX)\n",
        "# ==========================\n",
        "import pdfplumber\n",
        "import docx\n",
        "import re\n",
        "\n",
        "def extract_text(file_path):\n",
        "    if file_path.endswith(\".pdf\"):\n",
        "        text = \"\"\n",
        "        with pdfplumber.open(file_path) as pdf:\n",
        "            for page in pdf.pages:\n",
        "                text += page.extract_text() + \"\\n\"\n",
        "        return text\n",
        "    elif file_path.endswith(\".docx\"):\n",
        "        doc = docx.Document(file_path)\n",
        "        return \"\\n\".join([para.text for para in doc.paragraphs])\n",
        "    return \"\"\n",
        "\n",
        "def parse_resume(file_path):\n",
        "    text = extract_text(file_path)\n",
        "\n",
        "    # Regex extraction\n",
        "    email = re.findall(r'[\\w\\.-]+@[\\w\\.-]+', text)\n",
        "    phone = re.findall(r'\\+?\\d[\\d -]{8,12}\\d', text)\n",
        "    exp_match = re.findall(r'(\\d+)\\s+years', text, re.I)\n",
        "\n",
        "    skills_found = set(re.findall(r'\\b(Python|Java|C\\+\\+|AWS|SQL|ML)\\b', text, re.I))\n",
        "\n",
        "    return {\n",
        "        \"Name\": text.split(\"\\n\")[0].strip() if text else \"Unknown\",\n",
        "        \"Email\": email[0] if email else \"\",\n",
        "        \"Phone\": phone[0] if phone else \"\",\n",
        "        \"Skills\": \", \".join(skills_found),\n",
        "        \"Experience\": int(exp_match[0]) if exp_match else 0,\n",
        "        \"Resume File\": file_path\n",
        "    }\n"
      ],
      "metadata": {
        "id": "PkcBPqVc0RcG"
      },
      "execution_count": null,
      "outputs": []
    },
    {
      "cell_type": "code",
      "source": [
        "# ==========================\n",
        "# STEP 5: Candidate Rating\n",
        "# ==========================\n",
        "def rate_candidate(candidate):\n",
        "    exp = candidate[\"Experience\"]\n",
        "    if exp <= 1:\n",
        "        return \"Beginner (1⭐)\"\n",
        "    elif exp <= 4:\n",
        "        return \"Intermediate (2⭐)\"\n",
        "    else:\n",
        "        return \"Experienced (3⭐)\"\n"
      ],
      "metadata": {
        "id": "cQ2r1DvS0VMf"
      },
      "execution_count": null,
      "outputs": []
    },
    {
      "cell_type": "code",
      "source": [
        "# ==========================\n",
        "# STEP 6: Save to Excel\n",
        "# ==========================\n",
        "import pandas as pd\n",
        "\n",
        "EXCEL_FILE = \"/content/candidates.xlsx\"\n",
        "\n",
        "def save_to_excel(candidates):\n",
        "    df = pd.DataFrame(candidates)\n",
        "    if os.path.exists(EXCEL_FILE):\n",
        "        old = pd.read_excel(EXCEL_FILE)\n",
        "        df = pd.concat([old, df], ignore_index=True)\n",
        "    df.to_excel(EXCEL_FILE, index=False)\n",
        "    print(f\"✅ Saved {len(candidates)} candidates to {EXCEL_FILE}\")\n"
      ],
      "metadata": {
        "id": "nKlznsDd0V3A"
      },
      "execution_count": null,
      "outputs": []
    },
    {
      "cell_type": "code",
      "source": [
        "# ==========================\n",
        "# STEP 7: Main Execution\n",
        "# ==========================\n",
        "# For GitHub submission, you can use some sample resumes already in SAVE_DIR\n",
        "import glob\n",
        "\n",
        "sample_files = glob.glob(\"/content/resumes/*\")  # Make sure you have some sample PDFs/DOCs here\n",
        "\n",
        "candidates = []\n",
        "for file in sample_files:\n",
        "    data = parse_resume(file)\n",
        "    data[\"Rating\"] = rate_candidate(data)\n",
        "    candidates.append(data)\n",
        "\n",
        "save_to_excel(candidates)\n",
        "\n",
        "# Optional: download Excel\n",
        "from google.colab import files\n",
        "files.download(EXCEL_FILE)\n"
      ],
      "metadata": {
        "id": "XPYX8llw0Yoi"
      },
      "execution_count": null,
      "outputs": []
    }
  ]
}